{
 "cells": [
  {
   "cell_type": "code",
   "execution_count": 1,
   "id": "ed2df5ff-ec66-4be7-add5-8348150131fc",
   "metadata": {},
   "outputs": [],
   "source": [
    "import pandas as pd\n",
    "import numpy as np\n",
    "\n",
    "import numerapi\n",
    "\n",
    "import plotly.express as px"
   ]
  },
  {
   "cell_type": "code",
   "execution_count": 2,
   "id": "393b3c2d-1461-4c53-9c77-100e74dd8e18",
   "metadata": {},
   "outputs": [],
   "source": [
    "# some API calls do not require logging in\n",
    "#public_id = \"AVLW3M6UOZG3EIYLNN3JGUYHHC5MHV43\"\n",
    "#secret_key = \"RSZTLYGVX4EICEDQFCMBKVS3MPPCZ6UT56ZMGAVD64DQEZRMAXNZIDBA6EW3XJTQ\"\n",
    "#napi = numerapi.NumerAPI(public_id, secret_key)\n",
    "napi = numerapi.NumerAPI()"
   ]
  },
  {
   "cell_type": "code",
   "execution_count": 3,
   "id": "72c77d78-a639-413b-ae9a-6b2cfe811a2c",
   "metadata": {},
   "outputs": [],
   "source": [
    "#napi.get_models()"
   ]
  },
  {
   "cell_type": "code",
   "execution_count": 4,
   "id": "4cd969c9-327b-4847-a365-97e5ce526676",
   "metadata": {},
   "outputs": [
    {
     "data": {
      "text/html": [
       "<div>\n",
       "<style scoped>\n",
       "    .dataframe tbody tr th:only-of-type {\n",
       "        vertical-align: middle;\n",
       "    }\n",
       "\n",
       "    .dataframe tbody tr th {\n",
       "        vertical-align: top;\n",
       "    }\n",
       "\n",
       "    .dataframe thead th {\n",
       "        text-align: right;\n",
       "    }\n",
       "</style>\n",
       "<table border=\"1\" class=\"dataframe\">\n",
       "  <thead>\n",
       "    <tr style=\"text-align: right;\">\n",
       "      <th></th>\n",
       "      <th>corrRank</th>\n",
       "      <th>corrRep</th>\n",
       "      <th>date</th>\n",
       "      <th>fncRank</th>\n",
       "      <th>fncRep</th>\n",
       "      <th>mmcRank</th>\n",
       "      <th>mmcRep</th>\n",
       "    </tr>\n",
       "  </thead>\n",
       "  <tbody>\n",
       "    <tr>\n",
       "      <th>0</th>\n",
       "      <td>6918</td>\n",
       "      <td>-0.077451</td>\n",
       "      <td>2021-11-02 00:00:00+00:00</td>\n",
       "      <td>6751</td>\n",
       "      <td>-0.076056</td>\n",
       "      <td>6781</td>\n",
       "      <td>-0.077786</td>\n",
       "    </tr>\n",
       "    <tr>\n",
       "      <th>1</th>\n",
       "      <td>6843</td>\n",
       "      <td>-0.076032</td>\n",
       "      <td>2021-10-30 00:00:00+00:00</td>\n",
       "      <td>6694</td>\n",
       "      <td>-0.074697</td>\n",
       "      <td>6697</td>\n",
       "      <td>-0.076540</td>\n",
       "    </tr>\n",
       "    <tr>\n",
       "      <th>2</th>\n",
       "      <td>6787</td>\n",
       "      <td>-0.074613</td>\n",
       "      <td>2021-10-29 00:00:00+00:00</td>\n",
       "      <td>6653</td>\n",
       "      <td>-0.073339</td>\n",
       "      <td>6653</td>\n",
       "      <td>-0.075294</td>\n",
       "    </tr>\n",
       "    <tr>\n",
       "      <th>3</th>\n",
       "      <td>6711</td>\n",
       "      <td>-0.073194</td>\n",
       "      <td>2021-10-28 00:00:00+00:00</td>\n",
       "      <td>6543</td>\n",
       "      <td>-0.071980</td>\n",
       "      <td>6557</td>\n",
       "      <td>-0.074048</td>\n",
       "    </tr>\n",
       "    <tr>\n",
       "      <th>4</th>\n",
       "      <td>6501</td>\n",
       "      <td>-0.071775</td>\n",
       "      <td>2021-10-27 00:00:00+00:00</td>\n",
       "      <td>6373</td>\n",
       "      <td>-0.070622</td>\n",
       "      <td>6402</td>\n",
       "      <td>-0.072802</td>\n",
       "    </tr>\n",
       "    <tr>\n",
       "      <th>...</th>\n",
       "      <td>...</td>\n",
       "      <td>...</td>\n",
       "      <td>...</td>\n",
       "      <td>...</td>\n",
       "      <td>...</td>\n",
       "      <td>...</td>\n",
       "      <td>...</td>\n",
       "    </tr>\n",
       "    <tr>\n",
       "      <th>129</th>\n",
       "      <td>6139</td>\n",
       "      <td>-0.099319</td>\n",
       "      <td>2021-05-05 00:00:00+00:00</td>\n",
       "      <td>6006</td>\n",
       "      <td>-0.098256</td>\n",
       "      <td>6112</td>\n",
       "      <td>-0.098636</td>\n",
       "    </tr>\n",
       "    <tr>\n",
       "      <th>130</th>\n",
       "      <td>6129</td>\n",
       "      <td>-0.099045</td>\n",
       "      <td>2021-05-04 00:00:00+00:00</td>\n",
       "      <td>6058</td>\n",
       "      <td>-0.098298</td>\n",
       "      <td>6115</td>\n",
       "      <td>-0.098603</td>\n",
       "    </tr>\n",
       "    <tr>\n",
       "      <th>131</th>\n",
       "      <td>6119</td>\n",
       "      <td>-0.098588</td>\n",
       "      <td>2021-05-01 00:00:00+00:00</td>\n",
       "      <td>6083</td>\n",
       "      <td>-0.098322</td>\n",
       "      <td>6101</td>\n",
       "      <td>-0.098534</td>\n",
       "    </tr>\n",
       "    <tr>\n",
       "      <th>132</th>\n",
       "      <td>6131</td>\n",
       "      <td>-0.098313</td>\n",
       "      <td>2021-04-30 00:00:00+00:00</td>\n",
       "      <td>6157</td>\n",
       "      <td>-0.098346</td>\n",
       "      <td>6120</td>\n",
       "      <td>-0.098532</td>\n",
       "    </tr>\n",
       "    <tr>\n",
       "      <th>133</th>\n",
       "      <td>6136</td>\n",
       "      <td>-0.098212</td>\n",
       "      <td>2021-04-29 00:00:00+00:00</td>\n",
       "      <td>6127</td>\n",
       "      <td>-0.098250</td>\n",
       "      <td>6117</td>\n",
       "      <td>-0.098530</td>\n",
       "    </tr>\n",
       "  </tbody>\n",
       "</table>\n",
       "<p>134 rows × 7 columns</p>\n",
       "</div>"
      ],
      "text/plain": [
       "     corrRank   corrRep                      date  fncRank    fncRep  mmcRank  \\\n",
       "0        6918 -0.077451 2021-11-02 00:00:00+00:00     6751 -0.076056     6781   \n",
       "1        6843 -0.076032 2021-10-30 00:00:00+00:00     6694 -0.074697     6697   \n",
       "2        6787 -0.074613 2021-10-29 00:00:00+00:00     6653 -0.073339     6653   \n",
       "3        6711 -0.073194 2021-10-28 00:00:00+00:00     6543 -0.071980     6557   \n",
       "4        6501 -0.071775 2021-10-27 00:00:00+00:00     6373 -0.070622     6402   \n",
       "..        ...       ...                       ...      ...       ...      ...   \n",
       "129      6139 -0.099319 2021-05-05 00:00:00+00:00     6006 -0.098256     6112   \n",
       "130      6129 -0.099045 2021-05-04 00:00:00+00:00     6058 -0.098298     6115   \n",
       "131      6119 -0.098588 2021-05-01 00:00:00+00:00     6083 -0.098322     6101   \n",
       "132      6131 -0.098313 2021-04-30 00:00:00+00:00     6157 -0.098346     6120   \n",
       "133      6136 -0.098212 2021-04-29 00:00:00+00:00     6127 -0.098250     6117   \n",
       "\n",
       "       mmcRep  \n",
       "0   -0.077786  \n",
       "1   -0.076540  \n",
       "2   -0.075294  \n",
       "3   -0.074048  \n",
       "4   -0.072802  \n",
       "..        ...  \n",
       "129 -0.098636  \n",
       "130 -0.098603  \n",
       "131 -0.098534  \n",
       "132 -0.098532  \n",
       "133 -0.098530  \n",
       "\n",
       "[134 rows x 7 columns]"
      ]
     },
     "execution_count": 4,
     "metadata": {},
     "output_type": "execute_result"
    }
   ],
   "source": [
    "pd.DataFrame(napi.daily_model_performances(\"xdf8_1\"))"
   ]
  },
  {
   "cell_type": "code",
   "execution_count": 43,
   "id": "4d267984-b88a-432e-ad77-32e0e27b71fe",
   "metadata": {},
   "outputs": [
    {
     "data": {
      "text/html": [
       "<div>\n",
       "<style scoped>\n",
       "    .dataframe tbody tr th:only-of-type {\n",
       "        vertical-align: middle;\n",
       "    }\n",
       "\n",
       "    .dataframe tbody tr th {\n",
       "        vertical-align: top;\n",
       "    }\n",
       "\n",
       "    .dataframe thead th {\n",
       "        text-align: right;\n",
       "    }\n",
       "</style>\n",
       "<table border=\"1\" class=\"dataframe\">\n",
       "  <thead>\n",
       "    <tr style=\"text-align: right;\">\n",
       "      <th></th>\n",
       "      <th>corrPercentile</th>\n",
       "      <th>correlation</th>\n",
       "      <th>correlationWithMetamodel</th>\n",
       "      <th>date</th>\n",
       "      <th>fnc</th>\n",
       "      <th>fncPercentile</th>\n",
       "      <th>mmc</th>\n",
       "      <th>mmcPercentile</th>\n",
       "      <th>roundNumber</th>\n",
       "    </tr>\n",
       "  </thead>\n",
       "  <tbody>\n",
       "    <tr>\n",
       "      <th>0</th>\n",
       "      <td>0.667689</td>\n",
       "      <td>0.008174</td>\n",
       "      <td>0.413073</td>\n",
       "      <td>2021-09-30 00:00:00+00:00</td>\n",
       "      <td>0.005067</td>\n",
       "      <td>0.473855</td>\n",
       "      <td>0.003991</td>\n",
       "      <td>0.719469</td>\n",
       "      <td>283</td>\n",
       "    </tr>\n",
       "    <tr>\n",
       "      <th>1</th>\n",
       "      <td>0.929250</td>\n",
       "      <td>0.012561</td>\n",
       "      <td>0.413059</td>\n",
       "      <td>2021-10-01 00:00:00+00:00</td>\n",
       "      <td>0.009897</td>\n",
       "      <td>0.717849</td>\n",
       "      <td>0.014764</td>\n",
       "      <td>0.920597</td>\n",
       "      <td>283</td>\n",
       "    </tr>\n",
       "    <tr>\n",
       "      <th>2</th>\n",
       "      <td>0.881539</td>\n",
       "      <td>0.021839</td>\n",
       "      <td>0.413059</td>\n",
       "      <td>2021-10-02 00:00:00+00:00</td>\n",
       "      <td>0.018439</td>\n",
       "      <td>0.636180</td>\n",
       "      <td>0.013842</td>\n",
       "      <td>0.902970</td>\n",
       "      <td>283</td>\n",
       "    </tr>\n",
       "    <tr>\n",
       "      <th>3</th>\n",
       "      <td>0.749578</td>\n",
       "      <td>0.023209</td>\n",
       "      <td>0.413059</td>\n",
       "      <td>2021-10-05 00:00:00+00:00</td>\n",
       "      <td>0.020542</td>\n",
       "      <td>0.491731</td>\n",
       "      <td>0.010719</td>\n",
       "      <td>0.851671</td>\n",
       "      <td>283</td>\n",
       "    </tr>\n",
       "    <tr>\n",
       "      <th>4</th>\n",
       "      <td>0.785859</td>\n",
       "      <td>0.005594</td>\n",
       "      <td>0.413059</td>\n",
       "      <td>2021-10-06 00:00:00+00:00</td>\n",
       "      <td>0.002764</td>\n",
       "      <td>0.285184</td>\n",
       "      <td>0.007357</td>\n",
       "      <td>0.756666</td>\n",
       "      <td>283</td>\n",
       "    </tr>\n",
       "    <tr>\n",
       "      <th>...</th>\n",
       "      <td>...</td>\n",
       "      <td>...</td>\n",
       "      <td>...</td>\n",
       "      <td>...</td>\n",
       "      <td>...</td>\n",
       "      <td>...</td>\n",
       "      <td>...</td>\n",
       "      <td>...</td>\n",
       "      <td>...</td>\n",
       "    </tr>\n",
       "    <tr>\n",
       "      <th>265</th>\n",
       "      <td>0.930892</td>\n",
       "      <td>0.013722</td>\n",
       "      <td>0.420893</td>\n",
       "      <td>2021-07-22 00:00:00+00:00</td>\n",
       "      <td>0.010028</td>\n",
       "      <td>0.583199</td>\n",
       "      <td>0.015295</td>\n",
       "      <td>0.916353</td>\n",
       "      <td>270</td>\n",
       "    </tr>\n",
       "    <tr>\n",
       "      <th>266</th>\n",
       "      <td>0.889068</td>\n",
       "      <td>0.009143</td>\n",
       "      <td>0.420893</td>\n",
       "      <td>2021-07-23 00:00:00+00:00</td>\n",
       "      <td>0.006644</td>\n",
       "      <td>0.501705</td>\n",
       "      <td>0.010922</td>\n",
       "      <td>0.855502</td>\n",
       "      <td>270</td>\n",
       "    </tr>\n",
       "    <tr>\n",
       "      <th>267</th>\n",
       "      <td>0.867528</td>\n",
       "      <td>0.004820</td>\n",
       "      <td>0.420893</td>\n",
       "      <td>2021-07-24 00:00:00+00:00</td>\n",
       "      <td>0.001700</td>\n",
       "      <td>0.464908</td>\n",
       "      <td>0.009658</td>\n",
       "      <td>0.821756</td>\n",
       "      <td>270</td>\n",
       "    </tr>\n",
       "    <tr>\n",
       "      <th>268</th>\n",
       "      <td>0.945073</td>\n",
       "      <td>0.017822</td>\n",
       "      <td>0.420893</td>\n",
       "      <td>2021-07-27 00:00:00+00:00</td>\n",
       "      <td>0.013159</td>\n",
       "      <td>0.742955</td>\n",
       "      <td>0.017213</td>\n",
       "      <td>0.938252</td>\n",
       "      <td>270</td>\n",
       "    </tr>\n",
       "    <tr>\n",
       "      <th>269</th>\n",
       "      <td>0.914558</td>\n",
       "      <td>0.013891</td>\n",
       "      <td>0.420893</td>\n",
       "      <td>2021-07-28 00:00:00+00:00</td>\n",
       "      <td>0.009340</td>\n",
       "      <td>0.656076</td>\n",
       "      <td>0.014224</td>\n",
       "      <td>0.907377</td>\n",
       "      <td>270</td>\n",
       "    </tr>\n",
       "  </tbody>\n",
       "</table>\n",
       "<p>270 rows × 9 columns</p>\n",
       "</div>"
      ],
      "text/plain": [
       "     corrPercentile  correlation  correlationWithMetamodel  \\\n",
       "0          0.667689     0.008174                  0.413073   \n",
       "1          0.929250     0.012561                  0.413059   \n",
       "2          0.881539     0.021839                  0.413059   \n",
       "3          0.749578     0.023209                  0.413059   \n",
       "4          0.785859     0.005594                  0.413059   \n",
       "..              ...          ...                       ...   \n",
       "265        0.930892     0.013722                  0.420893   \n",
       "266        0.889068     0.009143                  0.420893   \n",
       "267        0.867528     0.004820                  0.420893   \n",
       "268        0.945073     0.017822                  0.420893   \n",
       "269        0.914558     0.013891                  0.420893   \n",
       "\n",
       "                         date       fnc  fncPercentile       mmc  \\\n",
       "0   2021-09-30 00:00:00+00:00  0.005067       0.473855  0.003991   \n",
       "1   2021-10-01 00:00:00+00:00  0.009897       0.717849  0.014764   \n",
       "2   2021-10-02 00:00:00+00:00  0.018439       0.636180  0.013842   \n",
       "3   2021-10-05 00:00:00+00:00  0.020542       0.491731  0.010719   \n",
       "4   2021-10-06 00:00:00+00:00  0.002764       0.285184  0.007357   \n",
       "..                        ...       ...            ...       ...   \n",
       "265 2021-07-22 00:00:00+00:00  0.010028       0.583199  0.015295   \n",
       "266 2021-07-23 00:00:00+00:00  0.006644       0.501705  0.010922   \n",
       "267 2021-07-24 00:00:00+00:00  0.001700       0.464908  0.009658   \n",
       "268 2021-07-27 00:00:00+00:00  0.013159       0.742955  0.017213   \n",
       "269 2021-07-28 00:00:00+00:00  0.009340       0.656076  0.014224   \n",
       "\n",
       "     mmcPercentile  roundNumber  \n",
       "0         0.719469          283  \n",
       "1         0.920597          283  \n",
       "2         0.902970          283  \n",
       "3         0.851671          283  \n",
       "4         0.756666          283  \n",
       "..             ...          ...  \n",
       "265       0.916353          270  \n",
       "266       0.855502          270  \n",
       "267       0.821756          270  \n",
       "268       0.938252          270  \n",
       "269       0.907377          270  \n",
       "\n",
       "[270 rows x 9 columns]"
      ]
     },
     "execution_count": 43,
     "metadata": {},
     "output_type": "execute_result"
    }
   ],
   "source": [
    "df_daily_performance = pd.DataFrame(napi.daily_submissions_performances('xdf8_2'))\n",
    "df_daily_performance"
   ]
  },
  {
   "cell_type": "code",
   "execution_count": 6,
   "id": "29ae7abd-ea27-488f-a4d4-146214c257d4",
   "metadata": {},
   "outputs": [
    {
     "data": {
      "text/plain": [
       "array([283, 269, 263, 285, 287, 286, 266, 265, 267, 271, 284, 272, 280,\n",
       "       268, 270])"
      ]
     },
     "execution_count": 6,
     "metadata": {},
     "output_type": "execute_result"
    }
   ],
   "source": [
    "df_daily_performance['roundNumber'].unique()"
   ]
  },
  {
   "cell_type": "code",
   "execution_count": 7,
   "id": "96485d51-7f87-48ec-a43a-2ac62bec4372",
   "metadata": {},
   "outputs": [
    {
     "data": {
      "text/plain": [
       "[283, 269, 263, 285, 287, 286, 266, 265, 267, 271, 284, 272, 280, 268, 270]"
      ]
     },
     "execution_count": 7,
     "metadata": {},
     "output_type": "execute_result"
    }
   ],
   "source": [
    "lst = list(df_daily_performance['roundNumber'].unique())\n",
    "lst"
   ]
  },
  {
   "cell_type": "code",
   "execution_count": 8,
   "id": "927f750a-0934-4dca-afa4-88ababd681ea",
   "metadata": {},
   "outputs": [
    {
     "data": {
      "text/plain": [
       "[263, 265, 266, 267, 268, 269, 270, 271, 272, 280, 283, 284, 285, 286, 287]"
      ]
     },
     "execution_count": 8,
     "metadata": {},
     "output_type": "execute_result"
    }
   ],
   "source": [
    "lst.sort()\n",
    "lst"
   ]
  },
  {
   "cell_type": "code",
   "execution_count": 28,
   "id": "5639829b-69b3-48c5-ad72-5f2d900a3f38",
   "metadata": {},
   "outputs": [
    {
     "data": {
      "text/plain": [
       "[284, 285, 286, 287]"
      ]
     },
     "execution_count": 28,
     "metadata": {},
     "output_type": "execute_result"
    }
   ],
   "source": [
    "rounds = df_daily_performance['roundNumber'].unique()\n",
    "rounds.sort()\n",
    "list(rounds[-4:])"
   ]
  },
  {
   "cell_type": "code",
   "execution_count": 42,
   "id": "3246d521-2a41-45d6-83ba-c13ae0b47fcb",
   "metadata": {},
   "outputs": [
    {
     "data": {
      "application/vnd.plotly.v1+json": {
       "config": {
        "plotlyServerURL": "https://plot.ly"
       },
       "data": [
        {
         "hovertemplate": "roundNumber=285<br>date=%{x}<br>correlation=%{y}<extra></extra>",
         "legendgroup": "285",
         "line": {
          "color": "#636efa",
          "dash": "solid"
         },
         "marker": {
          "symbol": "circle"
         },
         "mode": "lines",
         "name": "285",
         "orientation": "v",
         "showlegend": true,
         "type": "scatter",
         "visible": true,
         "x": [
          "2021-10-14",
          "2021-10-15",
          "2021-10-16",
          "2021-10-19",
          "2021-10-20",
          "2021-10-21",
          "2021-10-22",
          "2021-10-23",
          "2021-10-26",
          "2021-10-27",
          "2021-10-28",
          "2021-10-29",
          "2021-10-30",
          "2021-11-02"
         ],
         "xaxis": "x",
         "y": [
          0.014087206739141548,
          0.022579642574115297,
          0.0354906985209765,
          0.03477814406670397,
          0.030851520238964186,
          0.0389886700075783,
          0.027542388896741356,
          0.022172419979090897,
          0.023238233958115723,
          0.019823619883921426,
          0.02554229106341336,
          0.018764961473508365,
          0.02192088134389065,
          0.008025978302024589
         ],
         "yaxis": "y"
        },
        {
         "hovertemplate": "roundNumber=287<br>date=%{x}<br>correlation=%{y}<extra></extra>",
         "legendgroup": "287",
         "line": {
          "color": "#EF553B",
          "dash": "solid"
         },
         "marker": {
          "symbol": "circle"
         },
         "mode": "lines",
         "name": "287",
         "orientation": "v",
         "showlegend": true,
         "type": "scatter",
         "visible": true,
         "x": [
          "2021-10-28",
          "2021-10-29",
          "2021-10-30",
          "2021-11-02"
         ],
         "xaxis": "x",
         "y": [
          -0.022662919915810795,
          -0.02185698863418034,
          -0.02435414731346745,
          -0.02619037547580649
         ],
         "yaxis": "y"
        },
        {
         "hovertemplate": "roundNumber=286<br>date=%{x}<br>correlation=%{y}<extra></extra>",
         "legendgroup": "286",
         "line": {
          "color": "#00cc96",
          "dash": "solid"
         },
         "marker": {
          "symbol": "circle"
         },
         "mode": "lines",
         "name": "286",
         "orientation": "v",
         "showlegend": true,
         "type": "scatter",
         "visible": true,
         "x": [
          "2021-10-21",
          "2021-10-22",
          "2021-10-23",
          "2021-10-26",
          "2021-10-27",
          "2021-10-28",
          "2021-10-29",
          "2021-10-30",
          "2021-11-02"
         ],
         "xaxis": "x",
         "y": [
          0.003386519354825547,
          -0.0175200589048052,
          -0.017802407671724075,
          -2.1009264422651337e-06,
          -0.009573613583715255,
          -0.003381768379379918,
          -0.014272080652119004,
          -0.006762475070272315,
          -0.015637736384047377
         ],
         "yaxis": "y"
        },
        {
         "hovertemplate": "roundNumber=284<br>date=%{x}<br>correlation=%{y}<extra></extra>",
         "legendgroup": "284",
         "line": {
          "color": "#ab63fa",
          "dash": "solid"
         },
         "marker": {
          "symbol": "circle"
         },
         "mode": "lines",
         "name": "284",
         "orientation": "v",
         "showlegend": true,
         "type": "scatter",
         "visible": true,
         "x": [
          "2021-10-07",
          "2021-10-08",
          "2021-10-09",
          "2021-10-12",
          "2021-10-13",
          "2021-10-14",
          "2021-10-15",
          "2021-10-16",
          "2021-10-19",
          "2021-10-20",
          "2021-10-21",
          "2021-10-22",
          "2021-10-23",
          "2021-10-26",
          "2021-10-27",
          "2021-10-28",
          "2021-10-29",
          "2021-10-30",
          "2021-11-02"
         ],
         "xaxis": "x",
         "y": [
          0.003305088650872575,
          0.011491136059068865,
          -0.0013186867779873142,
          0.0037966354856672465,
          0.01130353835780803,
          0.017722227731046074,
          0.02700436544969515,
          0.030366309052228316,
          0.04348272136035487,
          0.037946468384441503,
          0.02812352453957891,
          0.02463448231675239,
          0.015555885699425717,
          0.02027867556513439,
          0.02188761103002014,
          0.01567507873999971,
          0.01326131167671541,
          -0.00163452228087251,
          0.013888649710111438
         ],
         "yaxis": "y"
        }
       ],
       "layout": {
        "autosize": true,
        "hovermode": "x",
        "legend": {
         "title": {
          "text": "roundNumber"
         },
         "tracegroupgap": 0
        },
        "margin": {
         "t": 60
        },
        "template": {
         "data": {
          "bar": [
           {
            "error_x": {
             "color": "#2a3f5f"
            },
            "error_y": {
             "color": "#2a3f5f"
            },
            "marker": {
             "line": {
              "color": "#E5ECF6",
              "width": 0.5
             },
             "pattern": {
              "fillmode": "overlay",
              "size": 10,
              "solidity": 0.2
             }
            },
            "type": "bar"
           }
          ],
          "barpolar": [
           {
            "marker": {
             "line": {
              "color": "#E5ECF6",
              "width": 0.5
             },
             "pattern": {
              "fillmode": "overlay",
              "size": 10,
              "solidity": 0.2
             }
            },
            "type": "barpolar"
           }
          ],
          "carpet": [
           {
            "aaxis": {
             "endlinecolor": "#2a3f5f",
             "gridcolor": "white",
             "linecolor": "white",
             "minorgridcolor": "white",
             "startlinecolor": "#2a3f5f"
            },
            "baxis": {
             "endlinecolor": "#2a3f5f",
             "gridcolor": "white",
             "linecolor": "white",
             "minorgridcolor": "white",
             "startlinecolor": "#2a3f5f"
            },
            "type": "carpet"
           }
          ],
          "choropleth": [
           {
            "colorbar": {
             "outlinewidth": 0,
             "ticks": ""
            },
            "type": "choropleth"
           }
          ],
          "contour": [
           {
            "colorbar": {
             "outlinewidth": 0,
             "ticks": ""
            },
            "colorscale": [
             [
              0,
              "#0d0887"
             ],
             [
              0.1111111111111111,
              "#46039f"
             ],
             [
              0.2222222222222222,
              "#7201a8"
             ],
             [
              0.3333333333333333,
              "#9c179e"
             ],
             [
              0.4444444444444444,
              "#bd3786"
             ],
             [
              0.5555555555555556,
              "#d8576b"
             ],
             [
              0.6666666666666666,
              "#ed7953"
             ],
             [
              0.7777777777777778,
              "#fb9f3a"
             ],
             [
              0.8888888888888888,
              "#fdca26"
             ],
             [
              1,
              "#f0f921"
             ]
            ],
            "type": "contour"
           }
          ],
          "contourcarpet": [
           {
            "colorbar": {
             "outlinewidth": 0,
             "ticks": ""
            },
            "type": "contourcarpet"
           }
          ],
          "heatmap": [
           {
            "colorbar": {
             "outlinewidth": 0,
             "ticks": ""
            },
            "colorscale": [
             [
              0,
              "#0d0887"
             ],
             [
              0.1111111111111111,
              "#46039f"
             ],
             [
              0.2222222222222222,
              "#7201a8"
             ],
             [
              0.3333333333333333,
              "#9c179e"
             ],
             [
              0.4444444444444444,
              "#bd3786"
             ],
             [
              0.5555555555555556,
              "#d8576b"
             ],
             [
              0.6666666666666666,
              "#ed7953"
             ],
             [
              0.7777777777777778,
              "#fb9f3a"
             ],
             [
              0.8888888888888888,
              "#fdca26"
             ],
             [
              1,
              "#f0f921"
             ]
            ],
            "type": "heatmap"
           }
          ],
          "heatmapgl": [
           {
            "colorbar": {
             "outlinewidth": 0,
             "ticks": ""
            },
            "colorscale": [
             [
              0,
              "#0d0887"
             ],
             [
              0.1111111111111111,
              "#46039f"
             ],
             [
              0.2222222222222222,
              "#7201a8"
             ],
             [
              0.3333333333333333,
              "#9c179e"
             ],
             [
              0.4444444444444444,
              "#bd3786"
             ],
             [
              0.5555555555555556,
              "#d8576b"
             ],
             [
              0.6666666666666666,
              "#ed7953"
             ],
             [
              0.7777777777777778,
              "#fb9f3a"
             ],
             [
              0.8888888888888888,
              "#fdca26"
             ],
             [
              1,
              "#f0f921"
             ]
            ],
            "type": "heatmapgl"
           }
          ],
          "histogram": [
           {
            "marker": {
             "pattern": {
              "fillmode": "overlay",
              "size": 10,
              "solidity": 0.2
             }
            },
            "type": "histogram"
           }
          ],
          "histogram2d": [
           {
            "colorbar": {
             "outlinewidth": 0,
             "ticks": ""
            },
            "colorscale": [
             [
              0,
              "#0d0887"
             ],
             [
              0.1111111111111111,
              "#46039f"
             ],
             [
              0.2222222222222222,
              "#7201a8"
             ],
             [
              0.3333333333333333,
              "#9c179e"
             ],
             [
              0.4444444444444444,
              "#bd3786"
             ],
             [
              0.5555555555555556,
              "#d8576b"
             ],
             [
              0.6666666666666666,
              "#ed7953"
             ],
             [
              0.7777777777777778,
              "#fb9f3a"
             ],
             [
              0.8888888888888888,
              "#fdca26"
             ],
             [
              1,
              "#f0f921"
             ]
            ],
            "type": "histogram2d"
           }
          ],
          "histogram2dcontour": [
           {
            "colorbar": {
             "outlinewidth": 0,
             "ticks": ""
            },
            "colorscale": [
             [
              0,
              "#0d0887"
             ],
             [
              0.1111111111111111,
              "#46039f"
             ],
             [
              0.2222222222222222,
              "#7201a8"
             ],
             [
              0.3333333333333333,
              "#9c179e"
             ],
             [
              0.4444444444444444,
              "#bd3786"
             ],
             [
              0.5555555555555556,
              "#d8576b"
             ],
             [
              0.6666666666666666,
              "#ed7953"
             ],
             [
              0.7777777777777778,
              "#fb9f3a"
             ],
             [
              0.8888888888888888,
              "#fdca26"
             ],
             [
              1,
              "#f0f921"
             ]
            ],
            "type": "histogram2dcontour"
           }
          ],
          "mesh3d": [
           {
            "colorbar": {
             "outlinewidth": 0,
             "ticks": ""
            },
            "type": "mesh3d"
           }
          ],
          "parcoords": [
           {
            "line": {
             "colorbar": {
              "outlinewidth": 0,
              "ticks": ""
             }
            },
            "type": "parcoords"
           }
          ],
          "pie": [
           {
            "automargin": true,
            "type": "pie"
           }
          ],
          "scatter": [
           {
            "marker": {
             "colorbar": {
              "outlinewidth": 0,
              "ticks": ""
             }
            },
            "type": "scatter"
           }
          ],
          "scatter3d": [
           {
            "line": {
             "colorbar": {
              "outlinewidth": 0,
              "ticks": ""
             }
            },
            "marker": {
             "colorbar": {
              "outlinewidth": 0,
              "ticks": ""
             }
            },
            "type": "scatter3d"
           }
          ],
          "scattercarpet": [
           {
            "marker": {
             "colorbar": {
              "outlinewidth": 0,
              "ticks": ""
             }
            },
            "type": "scattercarpet"
           }
          ],
          "scattergeo": [
           {
            "marker": {
             "colorbar": {
              "outlinewidth": 0,
              "ticks": ""
             }
            },
            "type": "scattergeo"
           }
          ],
          "scattergl": [
           {
            "marker": {
             "colorbar": {
              "outlinewidth": 0,
              "ticks": ""
             }
            },
            "type": "scattergl"
           }
          ],
          "scattermapbox": [
           {
            "marker": {
             "colorbar": {
              "outlinewidth": 0,
              "ticks": ""
             }
            },
            "type": "scattermapbox"
           }
          ],
          "scatterpolar": [
           {
            "marker": {
             "colorbar": {
              "outlinewidth": 0,
              "ticks": ""
             }
            },
            "type": "scatterpolar"
           }
          ],
          "scatterpolargl": [
           {
            "marker": {
             "colorbar": {
              "outlinewidth": 0,
              "ticks": ""
             }
            },
            "type": "scatterpolargl"
           }
          ],
          "scatterternary": [
           {
            "marker": {
             "colorbar": {
              "outlinewidth": 0,
              "ticks": ""
             }
            },
            "type": "scatterternary"
           }
          ],
          "surface": [
           {
            "colorbar": {
             "outlinewidth": 0,
             "ticks": ""
            },
            "colorscale": [
             [
              0,
              "#0d0887"
             ],
             [
              0.1111111111111111,
              "#46039f"
             ],
             [
              0.2222222222222222,
              "#7201a8"
             ],
             [
              0.3333333333333333,
              "#9c179e"
             ],
             [
              0.4444444444444444,
              "#bd3786"
             ],
             [
              0.5555555555555556,
              "#d8576b"
             ],
             [
              0.6666666666666666,
              "#ed7953"
             ],
             [
              0.7777777777777778,
              "#fb9f3a"
             ],
             [
              0.8888888888888888,
              "#fdca26"
             ],
             [
              1,
              "#f0f921"
             ]
            ],
            "type": "surface"
           }
          ],
          "table": [
           {
            "cells": {
             "fill": {
              "color": "#EBF0F8"
             },
             "line": {
              "color": "white"
             }
            },
            "header": {
             "fill": {
              "color": "#C8D4E3"
             },
             "line": {
              "color": "white"
             }
            },
            "type": "table"
           }
          ]
         },
         "layout": {
          "annotationdefaults": {
           "arrowcolor": "#2a3f5f",
           "arrowhead": 0,
           "arrowwidth": 1
          },
          "autotypenumbers": "strict",
          "coloraxis": {
           "colorbar": {
            "outlinewidth": 0,
            "ticks": ""
           }
          },
          "colorscale": {
           "diverging": [
            [
             0,
             "#8e0152"
            ],
            [
             0.1,
             "#c51b7d"
            ],
            [
             0.2,
             "#de77ae"
            ],
            [
             0.3,
             "#f1b6da"
            ],
            [
             0.4,
             "#fde0ef"
            ],
            [
             0.5,
             "#f7f7f7"
            ],
            [
             0.6,
             "#e6f5d0"
            ],
            [
             0.7,
             "#b8e186"
            ],
            [
             0.8,
             "#7fbc41"
            ],
            [
             0.9,
             "#4d9221"
            ],
            [
             1,
             "#276419"
            ]
           ],
           "sequential": [
            [
             0,
             "#0d0887"
            ],
            [
             0.1111111111111111,
             "#46039f"
            ],
            [
             0.2222222222222222,
             "#7201a8"
            ],
            [
             0.3333333333333333,
             "#9c179e"
            ],
            [
             0.4444444444444444,
             "#bd3786"
            ],
            [
             0.5555555555555556,
             "#d8576b"
            ],
            [
             0.6666666666666666,
             "#ed7953"
            ],
            [
             0.7777777777777778,
             "#fb9f3a"
            ],
            [
             0.8888888888888888,
             "#fdca26"
            ],
            [
             1,
             "#f0f921"
            ]
           ],
           "sequentialminus": [
            [
             0,
             "#0d0887"
            ],
            [
             0.1111111111111111,
             "#46039f"
            ],
            [
             0.2222222222222222,
             "#7201a8"
            ],
            [
             0.3333333333333333,
             "#9c179e"
            ],
            [
             0.4444444444444444,
             "#bd3786"
            ],
            [
             0.5555555555555556,
             "#d8576b"
            ],
            [
             0.6666666666666666,
             "#ed7953"
            ],
            [
             0.7777777777777778,
             "#fb9f3a"
            ],
            [
             0.8888888888888888,
             "#fdca26"
            ],
            [
             1,
             "#f0f921"
            ]
           ]
          },
          "colorway": [
           "#636efa",
           "#EF553B",
           "#00cc96",
           "#ab63fa",
           "#FFA15A",
           "#19d3f3",
           "#FF6692",
           "#B6E880",
           "#FF97FF",
           "#FECB52"
          ],
          "font": {
           "color": "#2a3f5f"
          },
          "geo": {
           "bgcolor": "white",
           "lakecolor": "white",
           "landcolor": "#E5ECF6",
           "showlakes": true,
           "showland": true,
           "subunitcolor": "white"
          },
          "hoverlabel": {
           "align": "left"
          },
          "hovermode": "closest",
          "mapbox": {
           "style": "light"
          },
          "paper_bgcolor": "white",
          "plot_bgcolor": "#E5ECF6",
          "polar": {
           "angularaxis": {
            "gridcolor": "white",
            "linecolor": "white",
            "ticks": ""
           },
           "bgcolor": "#E5ECF6",
           "radialaxis": {
            "gridcolor": "white",
            "linecolor": "white",
            "ticks": ""
           }
          },
          "scene": {
           "xaxis": {
            "backgroundcolor": "#E5ECF6",
            "gridcolor": "white",
            "gridwidth": 2,
            "linecolor": "white",
            "showbackground": true,
            "ticks": "",
            "zerolinecolor": "white"
           },
           "yaxis": {
            "backgroundcolor": "#E5ECF6",
            "gridcolor": "white",
            "gridwidth": 2,
            "linecolor": "white",
            "showbackground": true,
            "ticks": "",
            "zerolinecolor": "white"
           },
           "zaxis": {
            "backgroundcolor": "#E5ECF6",
            "gridcolor": "white",
            "gridwidth": 2,
            "linecolor": "white",
            "showbackground": true,
            "ticks": "",
            "zerolinecolor": "white"
           }
          },
          "shapedefaults": {
           "line": {
            "color": "#2a3f5f"
           }
          },
          "ternary": {
           "aaxis": {
            "gridcolor": "white",
            "linecolor": "white",
            "ticks": ""
           },
           "baxis": {
            "gridcolor": "white",
            "linecolor": "white",
            "ticks": ""
           },
           "bgcolor": "#E5ECF6",
           "caxis": {
            "gridcolor": "white",
            "linecolor": "white",
            "ticks": ""
           }
          },
          "title": {
           "x": 0.05
          },
          "xaxis": {
           "automargin": true,
           "gridcolor": "white",
           "linecolor": "white",
           "ticks": "",
           "title": {
            "standoff": 15
           },
           "zerolinecolor": "white",
           "zerolinewidth": 2
          },
          "yaxis": {
           "automargin": true,
           "gridcolor": "white",
           "linecolor": "white",
           "ticks": "",
           "title": {
            "standoff": 15
           },
           "zerolinecolor": "white",
           "zerolinewidth": 2
          }
         }
        },
        "xaxis": {
         "anchor": "y",
         "autorange": true,
         "domain": [
          0,
          1
         ],
         "range": [
          "2021-10-07",
          "2021-11-02"
         ],
         "title": {
          "text": "date"
         },
         "type": "date"
        },
        "yaxis": {
         "anchor": "x",
         "autorange": true,
         "domain": [
          0,
          1
         ],
         "range": [
          -0.030061103077815454,
          0.047353448962363834
         ],
         "title": {
          "text": "correlation"
         },
         "type": "linear"
        }
       }
      },
      "image/png": "[encoded data removed]",
      "text/html": [
       "<div>                            <div id=\"d005a722-981b-45e6-947c-3d64821bbcd5\" class=\"plotly-graph-div\" style=\"height:525px; width:100%;\"></div>            <script type=\"text/javascript\">                require([\"plotly\"], function(Plotly) {                    window.PLOTLYENV=window.PLOTLYENV || {};                                    if (document.getElementById(\"d005a722-981b-45e6-947c-3d64821bbcd5\")) {                    Plotly.newPlot(                        \"d005a722-981b-45e6-947c-3d64821bbcd5\",                        [{\"hovertemplate\":\"roundNumber=285<br>date=%{x}<br>correlation=%{y}<extra></extra>\",\"legendgroup\":\"285\",\"line\":{\"color\":\"#636efa\",\"dash\":\"solid\"},\"marker\":{\"symbol\":\"circle\"},\"mode\":\"lines\",\"name\":\"285\",\"orientation\":\"v\",\"showlegend\":true,\"type\":\"scatter\",\"x\":[\"2021-10-14\",\"2021-10-15\",\"2021-10-16\",\"2021-10-19\",\"2021-10-20\",\"2021-10-21\",\"2021-10-22\",\"2021-10-23\",\"2021-10-26\",\"2021-10-27\",\"2021-10-28\",\"2021-10-29\",\"2021-10-30\",\"2021-11-02\"],\"xaxis\":\"x\",\"y\":[0.014087206739141548,0.022579642574115297,0.0354906985209765,0.03477814406670397,0.030851520238964186,0.0389886700075783,0.027542388896741356,0.022172419979090897,0.023238233958115723,0.019823619883921426,0.02554229106341336,0.018764961473508365,0.02192088134389065,0.008025978302024589],\"yaxis\":\"y\"},{\"hovertemplate\":\"roundNumber=287<br>date=%{x}<br>correlation=%{y}<extra></extra>\",\"legendgroup\":\"287\",\"line\":{\"color\":\"#EF553B\",\"dash\":\"solid\"},\"marker\":{\"symbol\":\"circle\"},\"mode\":\"lines\",\"name\":\"287\",\"orientation\":\"v\",\"showlegend\":true,\"type\":\"scatter\",\"x\":[\"2021-10-28\",\"2021-10-29\",\"2021-10-30\",\"2021-11-02\"],\"xaxis\":\"x\",\"y\":[-0.022662919915810795,-0.02185698863418034,-0.02435414731346745,-0.02619037547580649],\"yaxis\":\"y\"},{\"hovertemplate\":\"roundNumber=286<br>date=%{x}<br>correlation=%{y}<extra></extra>\",\"legendgroup\":\"286\",\"line\":{\"color\":\"#00cc96\",\"dash\":\"solid\"},\"marker\":{\"symbol\":\"circle\"},\"mode\":\"lines\",\"name\":\"286\",\"orientation\":\"v\",\"showlegend\":true,\"type\":\"scatter\",\"x\":[\"2021-10-21\",\"2021-10-22\",\"2021-10-23\",\"2021-10-26\",\"2021-10-27\",\"2021-10-28\",\"2021-10-29\",\"2021-10-30\",\"2021-11-02\"],\"xaxis\":\"x\",\"y\":[0.003386519354825547,-0.0175200589048052,-0.017802407671724075,-2.1009264422651337e-06,-0.009573613583715255,-0.003381768379379918,-0.014272080652119004,-0.006762475070272315,-0.015637736384047377],\"yaxis\":\"y\"},{\"hovertemplate\":\"roundNumber=284<br>date=%{x}<br>correlation=%{y}<extra></extra>\",\"legendgroup\":\"284\",\"line\":{\"color\":\"#ab63fa\",\"dash\":\"solid\"},\"marker\":{\"symbol\":\"circle\"},\"mode\":\"lines\",\"name\":\"284\",\"orientation\":\"v\",\"showlegend\":true,\"type\":\"scatter\",\"x\":[\"2021-10-07\",\"2021-10-08\",\"2021-10-09\",\"2021-10-12\",\"2021-10-13\",\"2021-10-14\",\"2021-10-15\",\"2021-10-16\",\"2021-10-19\",\"2021-10-20\",\"2021-10-21\",\"2021-10-22\",\"2021-10-23\",\"2021-10-26\",\"2021-10-27\",\"2021-10-28\",\"2021-10-29\",\"2021-10-30\",\"2021-11-02\"],\"xaxis\":\"x\",\"y\":[0.003305088650872575,0.011491136059068865,-0.0013186867779873142,0.0037966354856672465,0.01130353835780803,0.017722227731046074,0.02700436544969515,0.030366309052228316,0.04348272136035487,0.037946468384441503,0.02812352453957891,0.02463448231675239,0.015555885699425717,0.02027867556513439,0.02188761103002014,0.01567507873999971,0.01326131167671541,-0.00163452228087251,0.013888649710111438],\"yaxis\":\"y\"}],                        {\"hovermode\":\"x\",\"legend\":{\"title\":{\"text\":\"roundNumber\"},\"tracegroupgap\":0},\"margin\":{\"t\":60},\"template\":{\"data\":{\"bar\":[{\"error_x\":{\"color\":\"#2a3f5f\"},\"error_y\":{\"color\":\"#2a3f5f\"},\"marker\":{\"line\":{\"color\":\"#E5ECF6\",\"width\":0.5},\"pattern\":{\"fillmode\":\"overlay\",\"size\":10,\"solidity\":0.2}},\"type\":\"bar\"}],\"barpolar\":[{\"marker\":{\"line\":{\"color\":\"#E5ECF6\",\"width\":0.5},\"pattern\":{\"fillmode\":\"overlay\",\"size\":10,\"solidity\":0.2}},\"type\":\"barpolar\"}],\"carpet\":[{\"aaxis\":{\"endlinecolor\":\"#2a3f5f\",\"gridcolor\":\"white\",\"linecolor\":\"white\",\"minorgridcolor\":\"white\",\"startlinecolor\":\"#2a3f5f\"},\"baxis\":{\"endlinecolor\":\"#2a3f5f\",\"gridcolor\":\"white\",\"linecolor\":\"white\",\"minorgridcolor\":\"white\",\"startlinecolor\":\"#2a3f5f\"},\"type\":\"carpet\"}],\"choropleth\":[{\"colorbar\":{\"outlinewidth\":0,\"ticks\":\"\"},\"type\":\"choropleth\"}],\"contour\":[{\"colorbar\":{\"outlinewidth\":0,\"ticks\":\"\"},\"colorscale\":[[0.0,\"#0d0887\"],[0.1111111111111111,\"#46039f\"],[0.2222222222222222,\"#7201a8\"],[0.3333333333333333,\"#9c179e\"],[0.4444444444444444,\"#bd3786\"],[0.5555555555555556,\"#d8576b\"],[0.6666666666666666,\"#ed7953\"],[0.7777777777777778,\"#fb9f3a\"],[0.8888888888888888,\"#fdca26\"],[1.0,\"#f0f921\"]],\"type\":\"contour\"}],\"contourcarpet\":[{\"colorbar\":{\"outlinewidth\":0,\"ticks\":\"\"},\"type\":\"contourcarpet\"}],\"heatmap\":[{\"colorbar\":{\"outlinewidth\":0,\"ticks\":\"\"},\"colorscale\":[[0.0,\"#0d0887\"],[0.1111111111111111,\"#46039f\"],[0.2222222222222222,\"#7201a8\"],[0.3333333333333333,\"#9c179e\"],[0.4444444444444444,\"#bd3786\"],[0.5555555555555556,\"#d8576b\"],[0.6666666666666666,\"#ed7953\"],[0.7777777777777778,\"#fb9f3a\"],[0.8888888888888888,\"#fdca26\"],[1.0,\"#f0f921\"]],\"type\":\"heatmap\"}],\"heatmapgl\":[{\"colorbar\":{\"outlinewidth\":0,\"ticks\":\"\"},\"colorscale\":[[0.0,\"#0d0887\"],[0.1111111111111111,\"#46039f\"],[0.2222222222222222,\"#7201a8\"],[0.3333333333333333,\"#9c179e\"],[0.4444444444444444,\"#bd3786\"],[0.5555555555555556,\"#d8576b\"],[0.6666666666666666,\"#ed7953\"],[0.7777777777777778,\"#fb9f3a\"],[0.8888888888888888,\"#fdca26\"],[1.0,\"#f0f921\"]],\"type\":\"heatmapgl\"}],\"histogram\":[{\"marker\":{\"pattern\":{\"fillmode\":\"overlay\",\"size\":10,\"solidity\":0.2}},\"type\":\"histogram\"}],\"histogram2d\":[{\"colorbar\":{\"outlinewidth\":0,\"ticks\":\"\"},\"colorscale\":[[0.0,\"#0d0887\"],[0.1111111111111111,\"#46039f\"],[0.2222222222222222,\"#7201a8\"],[0.3333333333333333,\"#9c179e\"],[0.4444444444444444,\"#bd3786\"],[0.5555555555555556,\"#d8576b\"],[0.6666666666666666,\"#ed7953\"],[0.7777777777777778,\"#fb9f3a\"],[0.8888888888888888,\"#fdca26\"],[1.0,\"#f0f921\"]],\"type\":\"histogram2d\"}],\"histogram2dcontour\":[{\"colorbar\":{\"outlinewidth\":0,\"ticks\":\"\"},\"colorscale\":[[0.0,\"#0d0887\"],[0.1111111111111111,\"#46039f\"],[0.2222222222222222,\"#7201a8\"],[0.3333333333333333,\"#9c179e\"],[0.4444444444444444,\"#bd3786\"],[0.5555555555555556,\"#d8576b\"],[0.6666666666666666,\"#ed7953\"],[0.7777777777777778,\"#fb9f3a\"],[0.8888888888888888,\"#fdca26\"],[1.0,\"#f0f921\"]],\"type\":\"histogram2dcontour\"}],\"mesh3d\":[{\"colorbar\":{\"outlinewidth\":0,\"ticks\":\"\"},\"type\":\"mesh3d\"}],\"parcoords\":[{\"line\":{\"colorbar\":{\"outlinewidth\":0,\"ticks\":\"\"}},\"type\":\"parcoords\"}],\"pie\":[{\"automargin\":true,\"type\":\"pie\"}],\"scatter\":[{\"marker\":{\"colorbar\":{\"outlinewidth\":0,\"ticks\":\"\"}},\"type\":\"scatter\"}],\"scatter3d\":[{\"line\":{\"colorbar\":{\"outlinewidth\":0,\"ticks\":\"\"}},\"marker\":{\"colorbar\":{\"outlinewidth\":0,\"ticks\":\"\"}},\"type\":\"scatter3d\"}],\"scattercarpet\":[{\"marker\":{\"colorbar\":{\"outlinewidth\":0,\"ticks\":\"\"}},\"type\":\"scattercarpet\"}],\"scattergeo\":[{\"marker\":{\"colorbar\":{\"outlinewidth\":0,\"ticks\":\"\"}},\"type\":\"scattergeo\"}],\"scattergl\":[{\"marker\":{\"colorbar\":{\"outlinewidth\":0,\"ticks\":\"\"}},\"type\":\"scattergl\"}],\"scattermapbox\":[{\"marker\":{\"colorbar\":{\"outlinewidth\":0,\"ticks\":\"\"}},\"type\":\"scattermapbox\"}],\"scatterpolar\":[{\"marker\":{\"colorbar\":{\"outlinewidth\":0,\"ticks\":\"\"}},\"type\":\"scatterpolar\"}],\"scatterpolargl\":[{\"marker\":{\"colorbar\":{\"outlinewidth\":0,\"ticks\":\"\"}},\"type\":\"scatterpolargl\"}],\"scatterternary\":[{\"marker\":{\"colorbar\":{\"outlinewidth\":0,\"ticks\":\"\"}},\"type\":\"scatterternary\"}],\"surface\":[{\"colorbar\":{\"outlinewidth\":0,\"ticks\":\"\"},\"colorscale\":[[0.0,\"#0d0887\"],[0.1111111111111111,\"#46039f\"],[0.2222222222222222,\"#7201a8\"],[0.3333333333333333,\"#9c179e\"],[0.4444444444444444,\"#bd3786\"],[0.5555555555555556,\"#d8576b\"],[0.6666666666666666,\"#ed7953\"],[0.7777777777777778,\"#fb9f3a\"],[0.8888888888888888,\"#fdca26\"],[1.0,\"#f0f921\"]],\"type\":\"surface\"}],\"table\":[{\"cells\":{\"fill\":{\"color\":\"#EBF0F8\"},\"line\":{\"color\":\"white\"}},\"header\":{\"fill\":{\"color\":\"#C8D4E3\"},\"line\":{\"color\":\"white\"}},\"type\":\"table\"}]},\"layout\":{\"annotationdefaults\":{\"arrowcolor\":\"#2a3f5f\",\"arrowhead\":0,\"arrowwidth\":1},\"autotypenumbers\":\"strict\",\"coloraxis\":{\"colorbar\":{\"outlinewidth\":0,\"ticks\":\"\"}},\"colorscale\":{\"diverging\":[[0,\"#8e0152\"],[0.1,\"#c51b7d\"],[0.2,\"#de77ae\"],[0.3,\"#f1b6da\"],[0.4,\"#fde0ef\"],[0.5,\"#f7f7f7\"],[0.6,\"#e6f5d0\"],[0.7,\"#b8e186\"],[0.8,\"#7fbc41\"],[0.9,\"#4d9221\"],[1,\"#276419\"]],\"sequential\":[[0.0,\"#0d0887\"],[0.1111111111111111,\"#46039f\"],[0.2222222222222222,\"#7201a8\"],[0.3333333333333333,\"#9c179e\"],[0.4444444444444444,\"#bd3786\"],[0.5555555555555556,\"#d8576b\"],[0.6666666666666666,\"#ed7953\"],[0.7777777777777778,\"#fb9f3a\"],[0.8888888888888888,\"#fdca26\"],[1.0,\"#f0f921\"]],\"sequentialminus\":[[0.0,\"#0d0887\"],[0.1111111111111111,\"#46039f\"],[0.2222222222222222,\"#7201a8\"],[0.3333333333333333,\"#9c179e\"],[0.4444444444444444,\"#bd3786\"],[0.5555555555555556,\"#d8576b\"],[0.6666666666666666,\"#ed7953\"],[0.7777777777777778,\"#fb9f3a\"],[0.8888888888888888,\"#fdca26\"],[1.0,\"#f0f921\"]]},\"colorway\":[\"#636efa\",\"#EF553B\",\"#00cc96\",\"#ab63fa\",\"#FFA15A\",\"#19d3f3\",\"#FF6692\",\"#B6E880\",\"#FF97FF\",\"#FECB52\"],\"font\":{\"color\":\"#2a3f5f\"},\"geo\":{\"bgcolor\":\"white\",\"lakecolor\":\"white\",\"landcolor\":\"#E5ECF6\",\"showlakes\":true,\"showland\":true,\"subunitcolor\":\"white\"},\"hoverlabel\":{\"align\":\"left\"},\"hovermode\":\"closest\",\"mapbox\":{\"style\":\"light\"},\"paper_bgcolor\":\"white\",\"plot_bgcolor\":\"#E5ECF6\",\"polar\":{\"angularaxis\":{\"gridcolor\":\"white\",\"linecolor\":\"white\",\"ticks\":\"\"},\"bgcolor\":\"#E5ECF6\",\"radialaxis\":{\"gridcolor\":\"white\",\"linecolor\":\"white\",\"ticks\":\"\"}},\"scene\":{\"xaxis\":{\"backgroundcolor\":\"#E5ECF6\",\"gridcolor\":\"white\",\"gridwidth\":2,\"linecolor\":\"white\",\"showbackground\":true,\"ticks\":\"\",\"zerolinecolor\":\"white\"},\"yaxis\":{\"backgroundcolor\":\"#E5ECF6\",\"gridcolor\":\"white\",\"gridwidth\":2,\"linecolor\":\"white\",\"showbackground\":true,\"ticks\":\"\",\"zerolinecolor\":\"white\"},\"zaxis\":{\"backgroundcolor\":\"#E5ECF6\",\"gridcolor\":\"white\",\"gridwidth\":2,\"linecolor\":\"white\",\"showbackground\":true,\"ticks\":\"\",\"zerolinecolor\":\"white\"}},\"shapedefaults\":{\"line\":{\"color\":\"#2a3f5f\"}},\"ternary\":{\"aaxis\":{\"gridcolor\":\"white\",\"linecolor\":\"white\",\"ticks\":\"\"},\"baxis\":{\"gridcolor\":\"white\",\"linecolor\":\"white\",\"ticks\":\"\"},\"bgcolor\":\"#E5ECF6\",\"caxis\":{\"gridcolor\":\"white\",\"linecolor\":\"white\",\"ticks\":\"\"}},\"title\":{\"x\":0.05},\"xaxis\":{\"automargin\":true,\"gridcolor\":\"white\",\"linecolor\":\"white\",\"ticks\":\"\",\"title\":{\"standoff\":15},\"zerolinecolor\":\"white\",\"zerolinewidth\":2},\"yaxis\":{\"automargin\":true,\"gridcolor\":\"white\",\"linecolor\":\"white\",\"ticks\":\"\",\"title\":{\"standoff\":15},\"zerolinecolor\":\"white\",\"zerolinewidth\":2}}},\"xaxis\":{\"anchor\":\"y\",\"domain\":[0.0,1.0],\"title\":{\"text\":\"date\"}},\"yaxis\":{\"anchor\":\"x\",\"domain\":[0.0,1.0],\"title\":{\"text\":\"correlation\"}}},                        {\"responsive\": true}                    ).then(function(){\n",
       "                            \n",
       "var gd = document.getElementById('d005a722-981b-45e6-947c-3d64821bbcd5');\n",
       "var x = new MutationObserver(function (mutations, observer) {{\n",
       "        var display = window.getComputedStyle(gd).display;\n",
       "        if (!display || display === 'none') {{\n",
       "            console.log([gd, 'removed!']);\n",
       "            Plotly.purge(gd);\n",
       "            observer.disconnect();\n",
       "        }}\n",
       "}});\n",
       "\n",
       "// Listen for the removal of the full notebook cells\n",
       "var notebookContainer = gd.closest('#notebook-container');\n",
       "if (notebookContainer) {{\n",
       "    x.observe(notebookContainer, {childList: true});\n",
       "}}\n",
       "\n",
       "// Listen for the clearing of the current output cell\n",
       "var outputEl = gd.closest('.output');\n",
       "if (outputEl) {{\n",
       "    x.observe(outputEl, {childList: true});\n",
       "}}\n",
       "\n",
       "                        })                };                });            </script>        </div>"
      ]
     },
     "metadata": {},
     "output_type": "display_data"
    }
   ],
   "source": [
    "rounds = df_daily_performance['roundNumber'].unique()\n",
    "rounds.sort()\n",
    "list(rounds[-4:])\n",
    "\n",
    "plot_df = df_daily_performance[df_daily_performance['roundNumber'].isin(list(rounds[-4:]))]#, ascending = False)\n",
    "p = px.line(data_frame = plot_df, x = 'date', y = 'correlation', color = 'roundNumber')\n",
    "p.update_layout(hovermode = 'x')\n",
    "p.show()"
   ]
  }
 ],
 "metadata": {
  "kernelspec": {
   "display_name": "Python 3 (ipykernel)",
   "language": "python",
   "name": "python3"
  },
  "language_info": {
   "codemirror_mode": {
    "name": "ipython",
    "version": 3
   },
   "file_extension": ".py",
   "mimetype": "text/x-python",
   "name": "python",
   "nbconvert_exporter": "python",
   "pygments_lexer": "ipython3",
   "version": "3.8.12"
  }
 },
 "nbformat": 4,
 "nbformat_minor": 5
}
